{
 "cells": [
  {
   "cell_type": "markdown",
   "metadata": {},
   "source": [
    "## Final Project\n",
    "### Nicolas Longuet Marx"
   ]
  },
  {
   "cell_type": "markdown",
   "metadata": {},
   "source": [
    "This document shows the output provided by the package. "
   ]
  },
  {
   "cell_type": "code",
   "execution_count": 150,
   "metadata": {},
   "outputs": [],
   "source": [
    "import os\n",
    "import numpy as np\n",
    "import pandas as pd\n",
    "import requests\n",
    "import json\n",
    "import codecs\n",
    "import matplotlib.pyplot as plt\n",
    "from legcop import LegiScan\n",
    "import nltk \n",
    "import base64\n",
    "from bs4 import BeautifulSoup\n",
    "from collections import Counter\n",
    "from matplotlib.ticker import FormatStrFormatter\n",
    "import re\n"
   ]
  },
  {
   "cell_type": "code",
   "execution_count": 2,
   "metadata": {},
   "outputs": [],
   "source": [
    "api_key = \"ENTER KEY HERE\"\n",
    "legis = LegiScan(api_key)"
   ]
  },
  {
   "cell_type": "code",
   "execution_count": 30,
   "metadata": {},
   "outputs": [],
   "source": [
    "### create text documents\n",
    "def import_text(num, path):\n",
    "    mylink2=\"https://api.legiscan.com/?key=\"+api_key+\"&op=getBillText&id=\"+num\n",
    "    r = requests.get(mylink2)\n",
    "    json_response=r.json()\n",
    "    json_response\n",
    "    mydataframe=pd.DataFrame(json_response)\n",
    "    mynew=mydataframe['text']\n",
    "    mynew.to_frame()\n",
    "    base64_message = mynew['doc']\n",
    "    mydecoded = base64.b64decode(base64_message)\n",
    "    html = mydecoded\n",
    "    soup = BeautifulSoup(html, features=\"html.parser\")\n",
    "    #base64_bytes = base64_message.encode('ascii')\n",
    "    #message_bytes = base64.b64decode(base64_bytes)\n",
    "    #message = message_bytes.decode('ascii')\n",
    "    raw = soup.get_text()  \n",
    "    output_file = open(path+'\\Output_'+num+'.txt', 'w', encoding=\"utf-8\")\n",
    "    output_file.write(raw)\n",
    "    output_file.close()\n"
   ]
  },
  {
   "cell_type": "code",
   "execution_count": 252,
   "metadata": {},
   "outputs": [],
   "source": [
    "import_text('1138632', 'NY')"
   ]
  },
  {
   "cell_type": "code",
   "execution_count": 343,
   "metadata": {},
   "outputs": [],
   "source": [
    "# get the list of datasets available\n",
    "def get_session_list(state):\n",
    "    mylink2='https://api.legiscan.com/?key='+api_key+'&op=getDatasetList&state='+state\n",
    "    r = requests.get(mylink2)\n",
    "    json_response=r.json()\n",
    "    json_response\n",
    "    global mylist\n",
    "    mylist=pd.DataFrame.from_dict(json_response['datasetlist'])\n",
    "    #print(mylist)\n",
    "\n",
    "    \n"
   ]
  },
  {
   "cell_type": "code",
   "execution_count": 344,
   "metadata": {},
   "outputs": [],
   "source": [
    "get_session_list('NY')\n"
   ]
  },
  {
   "cell_type": "code",
   "execution_count": 345,
   "metadata": {},
   "outputs": [
    {
     "data": {
      "text/html": [
       "<div>\n",
       "<style scoped>\n",
       "    .dataframe tbody tr th:only-of-type {\n",
       "        vertical-align: middle;\n",
       "    }\n",
       "\n",
       "    .dataframe tbody tr th {\n",
       "        vertical-align: top;\n",
       "    }\n",
       "\n",
       "    .dataframe thead th {\n",
       "        text-align: right;\n",
       "    }\n",
       "</style>\n",
       "<table border=\"1\" class=\"dataframe\">\n",
       "  <thead>\n",
       "    <tr style=\"text-align: right;\">\n",
       "      <th></th>\n",
       "      <th>state_id</th>\n",
       "      <th>session_id</th>\n",
       "      <th>special</th>\n",
       "      <th>year_start</th>\n",
       "      <th>year_end</th>\n",
       "      <th>session_name</th>\n",
       "      <th>session_title</th>\n",
       "      <th>dataset_hash</th>\n",
       "      <th>dataset_date</th>\n",
       "      <th>dataset_size</th>\n",
       "      <th>access_key</th>\n",
       "      <th>push_safe</th>\n",
       "    </tr>\n",
       "  </thead>\n",
       "  <tbody>\n",
       "    <tr>\n",
       "      <th>0</th>\n",
       "      <td>32</td>\n",
       "      <td>1644</td>\n",
       "      <td>0</td>\n",
       "      <td>2019</td>\n",
       "      <td>2020</td>\n",
       "      <td>2019-2020 General Assembly</td>\n",
       "      <td>General Assembly</td>\n",
       "      <td>113b58315ac9dbb2a50bf213f974b18e</td>\n",
       "      <td>2020-12-13</td>\n",
       "      <td>43909253</td>\n",
       "      <td>6FfiSKPtMWk6vO9OcFX0nW</td>\n",
       "      <td>0</td>\n",
       "    </tr>\n",
       "    <tr>\n",
       "      <th>1</th>\n",
       "      <td>32</td>\n",
       "      <td>1420</td>\n",
       "      <td>0</td>\n",
       "      <td>2017</td>\n",
       "      <td>2018</td>\n",
       "      <td>2017-2018 General Assembly</td>\n",
       "      <td>General Assembly</td>\n",
       "      <td>59b37327906aa03802629fd4f8161684</td>\n",
       "      <td>2020-08-04</td>\n",
       "      <td>39326806</td>\n",
       "      <td>3L9swKqrRNug3Hi0JMPGSQ</td>\n",
       "      <td>1</td>\n",
       "    </tr>\n",
       "    <tr>\n",
       "      <th>2</th>\n",
       "      <td>32</td>\n",
       "      <td>1143</td>\n",
       "      <td>0</td>\n",
       "      <td>2015</td>\n",
       "      <td>2016</td>\n",
       "      <td>2015-2016 General Assembly</td>\n",
       "      <td>General Assembly</td>\n",
       "      <td>1dbc5194aebd7fd04542fd580a0fad8c</td>\n",
       "      <td>2020-08-04</td>\n",
       "      <td>29804887</td>\n",
       "      <td>343NswGFEQhS5ZlfFb6Pn6</td>\n",
       "      <td>1</td>\n",
       "    </tr>\n",
       "    <tr>\n",
       "      <th>3</th>\n",
       "      <td>32</td>\n",
       "      <td>1013</td>\n",
       "      <td>0</td>\n",
       "      <td>2013</td>\n",
       "      <td>2014</td>\n",
       "      <td>2013-2014 General Assembly</td>\n",
       "      <td>General Assembly</td>\n",
       "      <td>b960085f29d963a51ec91ddfeab7941c</td>\n",
       "      <td>2020-08-04</td>\n",
       "      <td>30070817</td>\n",
       "      <td>7GfUXxyg2p3P8dOmdCkkXY</td>\n",
       "      <td>1</td>\n",
       "    </tr>\n",
       "    <tr>\n",
       "      <th>4</th>\n",
       "      <td>32</td>\n",
       "      <td>93</td>\n",
       "      <td>0</td>\n",
       "      <td>2011</td>\n",
       "      <td>2012</td>\n",
       "      <td>2011-2012 General Assembly</td>\n",
       "      <td>General Assembly</td>\n",
       "      <td>d4571c38555e97b192156afe16c0fc33</td>\n",
       "      <td>2020-08-04</td>\n",
       "      <td>31805251</td>\n",
       "      <td>2Qr7tfPpjyZUf4I8tps8mI</td>\n",
       "      <td>1</td>\n",
       "    </tr>\n",
       "    <tr>\n",
       "      <th>5</th>\n",
       "      <td>32</td>\n",
       "      <td>27</td>\n",
       "      <td>0</td>\n",
       "      <td>2009</td>\n",
       "      <td>2010</td>\n",
       "      <td>2009 General Assembly</td>\n",
       "      <td>General Assembly</td>\n",
       "      <td>ef9c2286d2c6f578500c56eb84feede9</td>\n",
       "      <td>2020-08-04</td>\n",
       "      <td>21773860</td>\n",
       "      <td>18pIeYkWCUjLQEpwpc1CBY</td>\n",
       "      <td>1</td>\n",
       "    </tr>\n",
       "  </tbody>\n",
       "</table>\n",
       "</div>"
      ],
      "text/plain": [
       "   state_id  session_id  special  year_start  year_end  \\\n",
       "0        32        1644        0        2019      2020   \n",
       "1        32        1420        0        2017      2018   \n",
       "2        32        1143        0        2015      2016   \n",
       "3        32        1013        0        2013      2014   \n",
       "4        32          93        0        2011      2012   \n",
       "5        32          27        0        2009      2010   \n",
       "\n",
       "                 session_name     session_title  \\\n",
       "0  2019-2020 General Assembly  General Assembly   \n",
       "1  2017-2018 General Assembly  General Assembly   \n",
       "2  2015-2016 General Assembly  General Assembly   \n",
       "3  2013-2014 General Assembly  General Assembly   \n",
       "4  2011-2012 General Assembly  General Assembly   \n",
       "5       2009 General Assembly  General Assembly   \n",
       "\n",
       "                       dataset_hash dataset_date  dataset_size  \\\n",
       "0  113b58315ac9dbb2a50bf213f974b18e   2020-12-13      43909253   \n",
       "1  59b37327906aa03802629fd4f8161684   2020-08-04      39326806   \n",
       "2  1dbc5194aebd7fd04542fd580a0fad8c   2020-08-04      29804887   \n",
       "3  b960085f29d963a51ec91ddfeab7941c   2020-08-04      30070817   \n",
       "4  d4571c38555e97b192156afe16c0fc33   2020-08-04      31805251   \n",
       "5  ef9c2286d2c6f578500c56eb84feede9   2020-08-04      21773860   \n",
       "\n",
       "               access_key  push_safe  \n",
       "0  6FfiSKPtMWk6vO9OcFX0nW          0  \n",
       "1  3L9swKqrRNug3Hi0JMPGSQ          1  \n",
       "2  343NswGFEQhS5ZlfFb6Pn6          1  \n",
       "3  7GfUXxyg2p3P8dOmdCkkXY          1  \n",
       "4  2Qr7tfPpjyZUf4I8tps8mI          1  \n",
       "5  18pIeYkWCUjLQEpwpc1CBY          1  "
      ]
     },
     "execution_count": 345,
     "metadata": {},
     "output_type": "execute_result"
    }
   ],
   "source": [
    "mylist"
   ]
  },
  {
   "cell_type": "code",
   "execution_count": 346,
   "metadata": {},
   "outputs": [],
   "source": [
    "# get the list of bills\n",
    "def get_bill_list(session_num):\n",
    "    mylink2=\"https://api.legiscan.com/?key=\"+api_key+\"&op=getMasterList&id=\"+session_num\n",
    "    r = requests.get(mylink2)\n",
    "    json_response=r.json()\n",
    "    mydata=pd.DataFrame.from_dict(json_response['masterlist'])\n",
    "    mynewdata=mydata.loc[  'title' ,:]\n",
    "    global mytitlelist\n",
    "    mytitlelist=mynewdata.to_frame()\n",
    "    mytitlelist=mytitlelist.dropna(subset=['title'])\n",
    "    session_id=mydata.loc['session_id', 'session']\n",
    "    session_name=mydata.loc['session_name', 'session']\n",
    "    mydata.loc['session_id', :]=session_id\n",
    "    mydata.loc['session_name', :]=session_name\n",
    "    global mydatanew\n",
    "    mydatanew=mydata.transpose()\n",
    "    mydatanew=mydatanew.drop(['session'])\n",
    "    mydatanew=mydatanew.dropna(subset=['title'])\n",
    "    #print(mytitlelist)"
   ]
  },
  {
   "cell_type": "code",
   "execution_count": 347,
   "metadata": {},
   "outputs": [],
   "source": [
    "get_bill_list('27')\n"
   ]
  },
  {
   "cell_type": "code",
   "execution_count": 348,
   "metadata": {},
   "outputs": [
    {
     "data": {
      "text/html": [
       "<div>\n",
       "<style scoped>\n",
       "    .dataframe tbody tr th:only-of-type {\n",
       "        vertical-align: middle;\n",
       "    }\n",
       "\n",
       "    .dataframe tbody tr th {\n",
       "        vertical-align: top;\n",
       "    }\n",
       "\n",
       "    .dataframe thead th {\n",
       "        text-align: right;\n",
       "    }\n",
       "</style>\n",
       "<table border=\"1\" class=\"dataframe\">\n",
       "  <thead>\n",
       "    <tr style=\"text-align: right;\">\n",
       "      <th></th>\n",
       "      <th>title</th>\n",
       "    </tr>\n",
       "  </thead>\n",
       "  <tbody>\n",
       "    <tr>\n",
       "      <th>0</th>\n",
       "      <td>Upon the request of a municipality, farm owner...</td>\n",
       "    </tr>\n",
       "    <tr>\n",
       "      <th>1</th>\n",
       "      <td>Relates to the employment of school nurses for...</td>\n",
       "    </tr>\n",
       "    <tr>\n",
       "      <th>2</th>\n",
       "      <td>Enacts the \"New York state YouthBuild act\"; cr...</td>\n",
       "    </tr>\n",
       "    <tr>\n",
       "      <th>3</th>\n",
       "      <td>Requires the furnishing of programs and servic...</td>\n",
       "    </tr>\n",
       "    <tr>\n",
       "      <th>4</th>\n",
       "      <td>Requires consideration of evidence relating to...</td>\n",
       "    </tr>\n",
       "    <tr>\n",
       "      <th>...</th>\n",
       "      <td>...</td>\n",
       "    </tr>\n",
       "    <tr>\n",
       "      <th>13105</th>\n",
       "      <td>Enacts into law major components of legislatio...</td>\n",
       "    </tr>\n",
       "    <tr>\n",
       "      <th>13106</th>\n",
       "      <td>Amends provisions of the education, labor and ...</td>\n",
       "    </tr>\n",
       "    <tr>\n",
       "      <th>13107</th>\n",
       "      <td>Establishes a special commission on judicial c...</td>\n",
       "    </tr>\n",
       "    <tr>\n",
       "      <th>13108</th>\n",
       "      <td>Updates the state energy conservation construc...</td>\n",
       "    </tr>\n",
       "    <tr>\n",
       "      <th>13109</th>\n",
       "      <td>Relates to the powers and duties of the dormit...</td>\n",
       "    </tr>\n",
       "  </tbody>\n",
       "</table>\n",
       "<p>13110 rows × 1 columns</p>\n",
       "</div>"
      ],
      "text/plain": [
       "                                                   title\n",
       "0      Upon the request of a municipality, farm owner...\n",
       "1      Relates to the employment of school nurses for...\n",
       "2      Enacts the \"New York state YouthBuild act\"; cr...\n",
       "3      Requires the furnishing of programs and servic...\n",
       "4      Requires consideration of evidence relating to...\n",
       "...                                                  ...\n",
       "13105  Enacts into law major components of legislatio...\n",
       "13106  Amends provisions of the education, labor and ...\n",
       "13107  Establishes a special commission on judicial c...\n",
       "13108  Updates the state energy conservation construc...\n",
       "13109  Relates to the powers and duties of the dormit...\n",
       "\n",
       "[13110 rows x 1 columns]"
      ]
     },
     "execution_count": 348,
     "metadata": {},
     "output_type": "execute_result"
    }
   ],
   "source": [
    "mytitlelist"
   ]
  },
  {
   "cell_type": "code",
   "execution_count": 176,
   "metadata": {},
   "outputs": [],
   "source": [
    "mydico = {\n",
    "    \"environment\" : \".environment|energy|tree|river|forest|animal|insect|fertilizer|dam|agricult|water|land|water|owner|control|site|air|solid|gas|tenant|oil|park|airport|coal|plant|prevent|underground|power|soil|portion|landlord|condition.\",\n",
    "    \"courts\" : \".court|judgment|attorney|case|appeal|civil|petition|sheriff|trial|circuit court|district court|such_person|complaint|counsel|brought|circuit|warrant|paid\",\n",
    "    \"pensions\": \".paid|benefit|rate|payment|equal|death|age|credit|pay|total|life|pension|premium|calendar year|loss|account|case|per cent|event|membership|excess|maximum.\",\n",
    "    \"local_projects\": \".development|local|project|budget|government|cost|grant|research|center|local government|data|transfer|governor|is the intent|develop|urban|review|biennium.\",\n",
    "    \"procurement\":\".director|contract|work|review|civil|labor|contractor|attorney general|bureau|final|perform|audit|receipt|status|exempt|panel|government|firm|bid|prepared.\",\n",
    "    \"elections\":\".district|town|petition|charter|special|ballot|mayor|voter|township|precinct|cast|referendum|census|elector|case|town council|said district|such district.\",\n",
    "    \"banking\":\".loan|trust|bank|agent|partnership|institution|foreign|stock|mortgage|deposit|surplus|interest|merger|credit union|partner|case|credit|gift|branch|transact.\",\n",
    "    \"licensing\":\".license|fee|dealer|sale|food|sold|holder|sell|valid|fish|agent|distributor|milk|liquor|product|such license|livestock|game|card|retail|misdemeanor|fine.\",\n",
    "    \"real_estate\":\".real|interest|sale|owner|contract|claim|lien|payment|transfer|instrument|seller|holder|issuer|debtor|claimant|buyer|pay|broker|settlement|receipt|money.\",\n",
    "    \"bonds\":\".interest|bond|payment|commonwealth|cost|sale|paid|pay|project|power|thereon|sold|debt|pledge|local law|event|hereof|proper|said board|real|port|sell|therefrom.\",\n",
    "    \"expenditures\":\".fund|account|money|paid|special|pay|tile|payment|transfer|for the fiscal year|excess|trust fund|so much thereof|deposit|state general fund|auditor|tie.\",\n",
    "    \"bureaucracy\":\".governor|council|government|chief|fire|appoint|personnel|compact|conflict|perform|shall consist|invalid|parish|successor|volunteer|membership|head|travel.\",\n",
    "    \"healthcare\":\".health|care|treatment|health care|physician|home|human|patient|mental|mental health|drug|social|condition|public health|medicaid|dental|client|review|institution.\",\n",
    "    \"child_custody\":\".child|court|minor|children|parent|age|probation|crime|victim|parole|guardian|adult|petition|placement|youth|case|social|legal|child support|obligor|home.\",\n",
    "    \"taxes\":\".tax|paid|gross|credit|return|net|rate|exempt|assessor|case|refund|equal|sale|total|calendar year|payment|fuel|portion|sold|price|retail|zone|pay|such tax.\",\n",
    "    \"education\":\".school|school district|state board|district|student|institution|higher|teacher|special|aid|pupil|children|school year|tuition|high school|school board.\",\n",
    "    \"traffic1\":\".motor|highway|driver|owner|traffic|plate|test|vessel|accident|weight|special|sect|trailer|railroad|state highway|stricken|feet|fine|alcohol|aircraft|carrier.\",\n",
    "    \"traffic2\":\".street|road|feet|island|river|run|tract|team|great|highway|township|cent.\"\n",
    "    }\n",
    "type_to_id = {key : value for key,value in enumerate(mydico.keys())}\n"
   ]
  },
  {
   "cell_type": "code",
   "execution_count": 335,
   "metadata": {},
   "outputs": [],
   "source": [
    "# regex classifcation\n",
    "def classification(data):\n",
    "    i=0\n",
    "    for key, value in mydico.items():\n",
    "        data.loc[data.title.str.contains(value), 'type']=key\n",
    "        i=i+1\n",
    "        data.loc[data.title.str.contains(value), 'typenum']=i\n",
    "#mylistofcat=[ environment_list,courts_list , pensions_list,local_projects_list,elections_list, banking_list, licensing_list, real_estate_list, bonds_list, expenditures_list \n",
    "    # graph de classification\n",
    "    fig, ax = plt.subplots()\n",
    "    label=mydico.keys()\n",
    "    counts, mybins, patches = ax.hist(data.typenum, facecolor='red', edgecolor='gray' , bins=17)\n",
    "    # Set the ticks to be at the edges of the bins.\n",
    "    ax = plt.hist(mybins, bins=17)\n",
    "    plt.xticks(mybins , mydico.keys(), rotation='vertical')\n",
    "    plt.title('Number of laws per categories')\n",
    "    plt.show()"
   ]
  },
  {
   "cell_type": "code",
   "execution_count": 195,
   "metadata": {},
   "outputs": [
    {
     "data": {
      "image/png": "[encoded data removed]",
      "text/plain": [
       "<Figure size 432x288 with 1 Axes>"
      ]
     },
     "metadata": {
      "needs_background": "light"
     },
     "output_type": "display_data"
    }
   ],
   "source": [
    "classification(mytitlelist)"
   ]
  },
  {
   "cell_type": "code",
   "execution_count": 299,
   "metadata": {},
   "outputs": [
    {
     "data": {
      "text/html": [
       "<div>\n",
       "<style scoped>\n",
       "    .dataframe tbody tr th:only-of-type {\n",
       "        vertical-align: middle;\n",
       "    }\n",
       "\n",
       "    .dataframe tbody tr th {\n",
       "        vertical-align: top;\n",
       "    }\n",
       "\n",
       "    .dataframe thead th {\n",
       "        text-align: right;\n",
       "    }\n",
       "</style>\n",
       "<table border=\"1\" class=\"dataframe\">\n",
       "  <thead>\n",
       "    <tr style=\"text-align: right;\">\n",
       "      <th></th>\n",
       "      <th>state_id</th>\n",
       "      <th>session_id</th>\n",
       "      <th>special</th>\n",
       "      <th>year_start</th>\n",
       "      <th>year_end</th>\n",
       "      <th>session_name</th>\n",
       "      <th>session_title</th>\n",
       "      <th>dataset_hash</th>\n",
       "      <th>dataset_date</th>\n",
       "      <th>dataset_size</th>\n",
       "      <th>access_key</th>\n",
       "      <th>push_safe</th>\n",
       "    </tr>\n",
       "  </thead>\n",
       "  <tbody>\n",
       "    <tr>\n",
       "      <th>5</th>\n",
       "      <td>32</td>\n",
       "      <td>27</td>\n",
       "      <td>0</td>\n",
       "      <td>2009</td>\n",
       "      <td>2010</td>\n",
       "      <td>2009 General Assembly</td>\n",
       "      <td>General Assembly</td>\n",
       "      <td>ef9c2286d2c6f578500c56eb84feede9</td>\n",
       "      <td>2020-08-04</td>\n",
       "      <td>21773860</td>\n",
       "      <td>18pIeYkWCUjLQEpwpc1CBY</td>\n",
       "      <td>1</td>\n",
       "    </tr>\n",
       "  </tbody>\n",
       "</table>\n",
       "</div>"
      ],
      "text/plain": [
       "   state_id  session_id  special  year_start  year_end           session_name  \\\n",
       "5        32          27        0        2009      2010  2009 General Assembly   \n",
       "\n",
       "      session_title                      dataset_hash dataset_date  \\\n",
       "5  General Assembly  ef9c2286d2c6f578500c56eb84feede9   2020-08-04   \n",
       "\n",
       "   dataset_size              access_key  push_safe  \n",
       "5      21773860  18pIeYkWCUjLQEpwpc1CBY          1  "
      ]
     },
     "execution_count": 299,
     "metadata": {},
     "output_type": "execute_result"
    }
   ],
   "source": [
    "# get_session_list('NY')\n",
    "mylist[mylist.year_start==int(myyear)]  \n"
   ]
  },
  {
   "cell_type": "code",
   "execution_count": 336,
   "metadata": {},
   "outputs": [],
   "source": [
    "def overall_request(state, download=False,  **kwargs):\n",
    "    #kwargs are here year and path\n",
    "    #here I would like to put something like: if year is not specified\n",
    "    get_session_list(state)\n",
    "    #myyear=kwargs['year']\n",
    "    if 'year' in kwargs:\n",
    "        if (type(kwargs['year'])==int):\n",
    "            myyear=str(kwargs['year'])\n",
    "        if re.search(r'\\d\\d\\d\\d', myyear):\n",
    "            global mylist\n",
    "            mylist=mylist[mylist.year_start==int(myyear)]         \n",
    "    mysessionlist=mylist['session_id']\n",
    "    for i in mysessionlist:\n",
    "        if (type(i)== int):\n",
    "            i=str(i)\n",
    "        get_bill_list(i)\n",
    "        if download == True:\n",
    "            print('hello')\n",
    "            for j in mydatanew.bill_id: \n",
    "                if (type(j)==int):\n",
    "                    j=str(j)\n",
    "                import_text(j, kwargs['path'])\n",
    "                \n",
    "    classification(mytitlelist)\n",
    "        \n",
    "    \n",
    "    "
   ]
  },
  {
   "cell_type": "code",
   "execution_count": 301,
   "metadata": {},
   "outputs": [
    {
     "name": "stdout",
     "output_type": "stream",
     "text": [
      "2009\n",
      "   state_id  session_id  special  year_start  year_end           session_name  \\\n",
      "5        32          27        0        2009      2010  2009 General Assembly   \n",
      "\n",
      "      session_title                      dataset_hash dataset_date  \\\n",
      "5  General Assembly  ef9c2286d2c6f578500c56eb84feede9   2020-08-04   \n",
      "\n",
      "   dataset_size              access_key  push_safe  \n",
      "5      21773860  18pIeYkWCUjLQEpwpc1CBY          1  \n",
      "27\n",
      "hello\n",
      "212253\n"
     ]
    },
    {
     "name": "stderr",
     "output_type": "stream",
     "text": [
      "Some characters could not be decoded, and were replaced with REPLACEMENT CHARACTER.\n"
     ]
    },
    {
     "name": "stdout",
     "output_type": "stream",
     "text": [
      "212254\n",
      "212255\n",
      "212256\n"
     ]
    },
    {
     "name": "stderr",
     "output_type": "stream",
     "text": [
      "Some characters could not be decoded, and were replaced with REPLACEMENT CHARACTER.\n"
     ]
    },
    {
     "name": "stdout",
     "output_type": "stream",
     "text": [
      "212257\n",
      "212258\n",
      "212259\n"
     ]
    },
    {
     "name": "stderr",
     "output_type": "stream",
     "text": [
      "Some characters could not be decoded, and were replaced with REPLACEMENT CHARACTER.\n"
     ]
    },
    {
     "name": "stdout",
     "output_type": "stream",
     "text": [
      "212260\n",
      "212261\n",
      "212262\n",
      "212263\n",
      "212264\n",
      "212265\n",
      "212266\n",
      "212267\n",
      "212268\n",
      "212269\n",
      "212270\n"
     ]
    },
    {
     "name": "stderr",
     "output_type": "stream",
     "text": [
      "Some characters could not be decoded, and were replaced with REPLACEMENT CHARACTER.\n"
     ]
    },
    {
     "name": "stdout",
     "output_type": "stream",
     "text": [
      "212271\n",
      "212272\n",
      "212273\n"
     ]
    },
    {
     "name": "stderr",
     "output_type": "stream",
     "text": [
      "Some characters could not be decoded, and were replaced with REPLACEMENT CHARACTER.\n"
     ]
    },
    {
     "name": "stdout",
     "output_type": "stream",
     "text": [
      "212274\n",
      "212275\n"
     ]
    },
    {
     "name": "stderr",
     "output_type": "stream",
     "text": [
      "Some characters could not be decoded, and were replaced with REPLACEMENT CHARACTER.\n"
     ]
    },
    {
     "name": "stdout",
     "output_type": "stream",
     "text": [
      "212276\n"
     ]
    },
    {
     "name": "stderr",
     "output_type": "stream",
     "text": [
      "Some characters could not be decoded, and were replaced with REPLACEMENT CHARACTER.\n"
     ]
    },
    {
     "name": "stdout",
     "output_type": "stream",
     "text": [
      "212277\n",
      "212278\n",
      "212279\n"
     ]
    },
    {
     "name": "stderr",
     "output_type": "stream",
     "text": [
      "Some characters could not be decoded, and were replaced with REPLACEMENT CHARACTER.\n"
     ]
    },
    {
     "name": "stdout",
     "output_type": "stream",
     "text": [
      "212280\n",
      "212281\n",
      "212282\n"
     ]
    },
    {
     "name": "stderr",
     "output_type": "stream",
     "text": [
      "Some characters could not be decoded, and were replaced with REPLACEMENT CHARACTER.\n"
     ]
    },
    {
     "name": "stdout",
     "output_type": "stream",
     "text": [
      "212283\n"
     ]
    },
    {
     "name": "stderr",
     "output_type": "stream",
     "text": [
      "Some characters could not be decoded, and were replaced with REPLACEMENT CHARACTER.\n"
     ]
    },
    {
     "name": "stdout",
     "output_type": "stream",
     "text": [
      "212284\n"
     ]
    },
    {
     "name": "stderr",
     "output_type": "stream",
     "text": [
      "Some characters could not be decoded, and were replaced with REPLACEMENT CHARACTER.\n"
     ]
    },
    {
     "name": "stdout",
     "output_type": "stream",
     "text": [
      "212285\n",
      "212286\n",
      "212287\n",
      "212288\n",
      "212289\n",
      "212290\n",
      "212291\n"
     ]
    },
    {
     "name": "stderr",
     "output_type": "stream",
     "text": [
      "Some characters could not be decoded, and were replaced with REPLACEMENT CHARACTER.\n"
     ]
    },
    {
     "name": "stdout",
     "output_type": "stream",
     "text": [
      "212292\n",
      "212293\n",
      "212294\n",
      "212295\n",
      "212296\n",
      "212297\n",
      "212298\n",
      "212299\n"
     ]
    },
    {
     "name": "stderr",
     "output_type": "stream",
     "text": [
      "Some characters could not be decoded, and were replaced with REPLACEMENT CHARACTER.\n"
     ]
    },
    {
     "name": "stdout",
     "output_type": "stream",
     "text": [
      "212300\n"
     ]
    },
    {
     "name": "stderr",
     "output_type": "stream",
     "text": [
      "Some characters could not be decoded, and were replaced with REPLACEMENT CHARACTER.\n"
     ]
    },
    {
     "name": "stdout",
     "output_type": "stream",
     "text": [
      "212301\n",
      "212302\n",
      "212303\n"
     ]
    },
    {
     "name": "stderr",
     "output_type": "stream",
     "text": [
      "Some characters could not be decoded, and were replaced with REPLACEMENT CHARACTER.\n"
     ]
    },
    {
     "name": "stdout",
     "output_type": "stream",
     "text": [
      "212304\n",
      "212305\n",
      "212306\n",
      "212307\n"
     ]
    },
    {
     "name": "stderr",
     "output_type": "stream",
     "text": [
      "Some characters could not be decoded, and were replaced with REPLACEMENT CHARACTER.\n"
     ]
    },
    {
     "name": "stdout",
     "output_type": "stream",
     "text": [
      "212308\n",
      "212309\n",
      "212310\n",
      "212311\n"
     ]
    },
    {
     "name": "stderr",
     "output_type": "stream",
     "text": [
      "Some characters could not be decoded, and were replaced with REPLACEMENT CHARACTER.\n"
     ]
    },
    {
     "name": "stdout",
     "output_type": "stream",
     "text": [
      "212312\n",
      "212313\n"
     ]
    },
    {
     "name": "stderr",
     "output_type": "stream",
     "text": [
      "Some characters could not be decoded, and were replaced with REPLACEMENT CHARACTER.\n"
     ]
    },
    {
     "name": "stdout",
     "output_type": "stream",
     "text": [
      "212314\n"
     ]
    },
    {
     "name": "stderr",
     "output_type": "stream",
     "text": [
      "Some characters could not be decoded, and were replaced with REPLACEMENT CHARACTER.\n"
     ]
    },
    {
     "name": "stdout",
     "output_type": "stream",
     "text": [
      "212315\n",
      "212316\n",
      "212317\n",
      "212318\n"
     ]
    },
    {
     "name": "stderr",
     "output_type": "stream",
     "text": [
      "Some characters could not be decoded, and were replaced with REPLACEMENT CHARACTER.\n"
     ]
    },
    {
     "name": "stdout",
     "output_type": "stream",
     "text": [
      "212319\n",
      "212320\n",
      "212321\n",
      "212322\n"
     ]
    },
    {
     "name": "stderr",
     "output_type": "stream",
     "text": [
      "Some characters could not be decoded, and were replaced with REPLACEMENT CHARACTER.\n"
     ]
    },
    {
     "name": "stdout",
     "output_type": "stream",
     "text": [
      "212323\n",
      "212324\n"
     ]
    },
    {
     "name": "stderr",
     "output_type": "stream",
     "text": [
      "Some characters could not be decoded, and were replaced with REPLACEMENT CHARACTER.\n"
     ]
    },
    {
     "name": "stdout",
     "output_type": "stream",
     "text": [
      "212325\n",
      "212326\n",
      "212327\n",
      "212328\n"
     ]
    },
    {
     "name": "stderr",
     "output_type": "stream",
     "text": [
      "Some characters could not be decoded, and were replaced with REPLACEMENT CHARACTER.\n"
     ]
    },
    {
     "name": "stdout",
     "output_type": "stream",
     "text": [
      "212329\n",
      "212330\n",
      "212331\n",
      "212332\n"
     ]
    },
    {
     "name": "stderr",
     "output_type": "stream",
     "text": [
      "Some characters could not be decoded, and were replaced with REPLACEMENT CHARACTER.\n"
     ]
    },
    {
     "name": "stdout",
     "output_type": "stream",
     "text": [
      "212333\n",
      "212334\n",
      "212335\n",
      "212336\n"
     ]
    },
    {
     "name": "stderr",
     "output_type": "stream",
     "text": [
      "Some characters could not be decoded, and were replaced with REPLACEMENT CHARACTER.\n"
     ]
    },
    {
     "name": "stdout",
     "output_type": "stream",
     "text": [
      "212337\n",
      "212338\n",
      "212339\n",
      "212340\n",
      "212341\n"
     ]
    },
    {
     "name": "stderr",
     "output_type": "stream",
     "text": [
      "Some characters could not be decoded, and were replaced with REPLACEMENT CHARACTER.\n"
     ]
    },
    {
     "name": "stdout",
     "output_type": "stream",
     "text": [
      "212342\n",
      "46639\n",
      "212343\n",
      "46640\n"
     ]
    },
    {
     "name": "stderr",
     "output_type": "stream",
     "text": [
      "Some characters could not be decoded, and were replaced with REPLACEMENT CHARACTER.\n"
     ]
    },
    {
     "name": "stdout",
     "output_type": "stream",
     "text": [
      "46641\n"
     ]
    },
    {
     "name": "stderr",
     "output_type": "stream",
     "text": [
      "Some characters could not be decoded, and were replaced with REPLACEMENT CHARACTER.\n"
     ]
    },
    {
     "name": "stdout",
     "output_type": "stream",
     "text": [
      "46642\n"
     ]
    },
    {
     "name": "stderr",
     "output_type": "stream",
     "text": [
      "Some characters could not be decoded, and were replaced with REPLACEMENT CHARACTER.\n"
     ]
    },
    {
     "name": "stdout",
     "output_type": "stream",
     "text": [
      "46643\n"
     ]
    },
    {
     "name": "stderr",
     "output_type": "stream",
     "text": [
      "Some characters could not be decoded, and were replaced with REPLACEMENT CHARACTER.\n"
     ]
    },
    {
     "name": "stdout",
     "output_type": "stream",
     "text": [
      "46644\n",
      "46645\n",
      "212344\n",
      "46646\n",
      "46647\n",
      "212345\n"
     ]
    },
    {
     "name": "stderr",
     "output_type": "stream",
     "text": [
      "Some characters could not be decoded, and were replaced with REPLACEMENT CHARACTER.\n"
     ]
    },
    {
     "name": "stdout",
     "output_type": "stream",
     "text": [
      "212346\n",
      "46648\n",
      "57068\n",
      "57069\n",
      "57070\n",
      "46649\n",
      "212347\n",
      "46650\n",
      "212348\n"
     ]
    },
    {
     "name": "stderr",
     "output_type": "stream",
     "text": [
      "Some characters could not be decoded, and were replaced with REPLACEMENT CHARACTER.\n"
     ]
    },
    {
     "name": "stdout",
     "output_type": "stream",
     "text": [
      "212349\n",
      "212350\n",
      "57071\n",
      "212351\n"
     ]
    },
    {
     "name": "stderr",
     "output_type": "stream",
     "text": [
      "Some characters could not be decoded, and were replaced with REPLACEMENT CHARACTER.\n"
     ]
    },
    {
     "name": "stdout",
     "output_type": "stream",
     "text": [
      "46651\n",
      "46652\n",
      "46653\n",
      "46654\n"
     ]
    },
    {
     "name": "stderr",
     "output_type": "stream",
     "text": [
      "Some characters could not be decoded, and were replaced with REPLACEMENT CHARACTER.\n"
     ]
    },
    {
     "name": "stdout",
     "output_type": "stream",
     "text": [
      "46655\n"
     ]
    },
    {
     "name": "stderr",
     "output_type": "stream",
     "text": [
      "Some characters could not be decoded, and were replaced with REPLACEMENT CHARACTER.\n"
     ]
    },
    {
     "name": "stdout",
     "output_type": "stream",
     "text": [
      "46656\n"
     ]
    },
    {
     "name": "stderr",
     "output_type": "stream",
     "text": [
      "Some characters could not be decoded, and were replaced with REPLACEMENT CHARACTER.\n"
     ]
    },
    {
     "name": "stdout",
     "output_type": "stream",
     "text": [
      "46657\n"
     ]
    },
    {
     "name": "stderr",
     "output_type": "stream",
     "text": [
      "Some characters could not be decoded, and were replaced with REPLACEMENT CHARACTER.\n"
     ]
    },
    {
     "name": "stdout",
     "output_type": "stream",
     "text": [
      "57072\n",
      "46658\n"
     ]
    },
    {
     "name": "stderr",
     "output_type": "stream",
     "text": [
      "Some characters could not be decoded, and were replaced with REPLACEMENT CHARACTER.\n"
     ]
    },
    {
     "name": "stdout",
     "output_type": "stream",
     "text": [
      "212352\n",
      "46659\n",
      "46660\n",
      "46661\n",
      "46662\n",
      "46663\n",
      "57073\n",
      "46664\n",
      "212353\n",
      "46665\n",
      "46666\n"
     ]
    },
    {
     "name": "stderr",
     "output_type": "stream",
     "text": [
      "Some characters could not be decoded, and were replaced with REPLACEMENT CHARACTER.\n"
     ]
    },
    {
     "name": "stdout",
     "output_type": "stream",
     "text": [
      "46667\n",
      "212354\n",
      "46668\n",
      "212355\n",
      "212356\n",
      "46669\n",
      "46670\n",
      "46671\n",
      "46672\n",
      "212357\n",
      "212358\n",
      "212359\n",
      "212360\n"
     ]
    },
    {
     "name": "stderr",
     "output_type": "stream",
     "text": [
      "Some characters could not be decoded, and were replaced with REPLACEMENT CHARACTER.\n"
     ]
    },
    {
     "name": "stdout",
     "output_type": "stream",
     "text": [
      "46673\n",
      "212361\n",
      "212362\n"
     ]
    },
    {
     "name": "stderr",
     "output_type": "stream",
     "text": [
      "Some characters could not be decoded, and were replaced with REPLACEMENT CHARACTER.\n"
     ]
    },
    {
     "name": "stdout",
     "output_type": "stream",
     "text": [
      "46674\n"
     ]
    },
    {
     "name": "stderr",
     "output_type": "stream",
     "text": [
      "Some characters could not be decoded, and were replaced with REPLACEMENT CHARACTER.\n"
     ]
    },
    {
     "name": "stdout",
     "output_type": "stream",
     "text": [
      "46675\n",
      "212363\n",
      "46676\n",
      "212364\n",
      "46677\n"
     ]
    },
    {
     "name": "stderr",
     "output_type": "stream",
     "text": [
      "Some characters could not be decoded, and were replaced with REPLACEMENT CHARACTER.\n"
     ]
    },
    {
     "name": "stdout",
     "output_type": "stream",
     "text": [
      "46678\n"
     ]
    },
    {
     "name": "stderr",
     "output_type": "stream",
     "text": [
      "Some characters could not be decoded, and were replaced with REPLACEMENT CHARACTER.\n"
     ]
    },
    {
     "name": "stdout",
     "output_type": "stream",
     "text": [
      "212365\n",
      "212366\n"
     ]
    },
    {
     "name": "stderr",
     "output_type": "stream",
     "text": [
      "Some characters could not be decoded, and were replaced with REPLACEMENT CHARACTER.\n"
     ]
    },
    {
     "name": "stdout",
     "output_type": "stream",
     "text": [
      "46679\n"
     ]
    },
    {
     "name": "stderr",
     "output_type": "stream",
     "text": [
      "Some characters could not be decoded, and were replaced with REPLACEMENT CHARACTER.\n"
     ]
    },
    {
     "name": "stdout",
     "output_type": "stream",
     "text": [
      "212367\n",
      "46680\n"
     ]
    },
    {
     "name": "stderr",
     "output_type": "stream",
     "text": [
      "Some characters could not be decoded, and were replaced with REPLACEMENT CHARACTER.\n"
     ]
    },
    {
     "name": "stdout",
     "output_type": "stream",
     "text": [
      "46681\n",
      "46682\n",
      "212368\n",
      "46683\n",
      "46684\n"
     ]
    },
    {
     "name": "stderr",
     "output_type": "stream",
     "text": [
      "Some characters could not be decoded, and were replaced with REPLACEMENT CHARACTER.\n"
     ]
    },
    {
     "name": "stdout",
     "output_type": "stream",
     "text": [
      "46685\n"
     ]
    },
    {
     "name": "stderr",
     "output_type": "stream",
     "text": [
      "Some characters could not be decoded, and were replaced with REPLACEMENT CHARACTER.\n"
     ]
    },
    {
     "name": "stdout",
     "output_type": "stream",
     "text": [
      "46686\n"
     ]
    },
    {
     "name": "stderr",
     "output_type": "stream",
     "text": [
      "Some characters could not be decoded, and were replaced with REPLACEMENT CHARACTER.\n"
     ]
    },
    {
     "name": "stdout",
     "output_type": "stream",
     "text": [
      "46687\n"
     ]
    },
    {
     "name": "stderr",
     "output_type": "stream",
     "text": [
      "Some characters could not be decoded, and were replaced with REPLACEMENT CHARACTER.\n"
     ]
    },
    {
     "name": "stdout",
     "output_type": "stream",
     "text": [
      "46688\n",
      "46689\n",
      "46690\n",
      "46691\n",
      "46692\n",
      "46693\n",
      "46694\n",
      "46695\n"
     ]
    },
    {
     "name": "stderr",
     "output_type": "stream",
     "text": [
      "Some characters could not be decoded, and were replaced with REPLACEMENT CHARACTER.\n"
     ]
    },
    {
     "name": "stdout",
     "output_type": "stream",
     "text": [
      "212369\n",
      "212370\n",
      "212371\n",
      "46696\n",
      "46697\n",
      "212372\n",
      "212373\n"
     ]
    },
    {
     "name": "stderr",
     "output_type": "stream",
     "text": [
      "Some characters could not be decoded, and were replaced with REPLACEMENT CHARACTER.\n"
     ]
    },
    {
     "name": "stdout",
     "output_type": "stream",
     "text": [
      "46698\n",
      "46699\n",
      "46700\n",
      "46701\n",
      "46702\n",
      "46703\n",
      "212374\n",
      "212375\n"
     ]
    },
    {
     "name": "stderr",
     "output_type": "stream",
     "text": [
      "Some characters could not be decoded, and were replaced with REPLACEMENT CHARACTER.\n"
     ]
    },
    {
     "name": "stdout",
     "output_type": "stream",
     "text": [
      "46704\n"
     ]
    },
    {
     "name": "stderr",
     "output_type": "stream",
     "text": [
      "Some characters could not be decoded, and were replaced with REPLACEMENT CHARACTER.\n"
     ]
    },
    {
     "name": "stdout",
     "output_type": "stream",
     "text": [
      "46705\n"
     ]
    },
    {
     "name": "stderr",
     "output_type": "stream",
     "text": [
      "Some characters could not be decoded, and were replaced with REPLACEMENT CHARACTER.\n"
     ]
    },
    {
     "name": "stdout",
     "output_type": "stream",
     "text": [
      "46706\n",
      "46707\n",
      "46708\n",
      "212376\n",
      "46709\n",
      "46710\n",
      "46711\n",
      "212377\n"
     ]
    },
    {
     "name": "stderr",
     "output_type": "stream",
     "text": [
      "Some characters could not be decoded, and were replaced with REPLACEMENT CHARACTER.\n"
     ]
    },
    {
     "name": "stdout",
     "output_type": "stream",
     "text": [
      "46712\n",
      "46713\n",
      "46714\n"
     ]
    },
    {
     "name": "stderr",
     "output_type": "stream",
     "text": [
      "Some characters could not be decoded, and were replaced with REPLACEMENT CHARACTER.\n"
     ]
    },
    {
     "name": "stdout",
     "output_type": "stream",
     "text": [
      "212378\n",
      "46715\n"
     ]
    },
    {
     "name": "stderr",
     "output_type": "stream",
     "text": [
      "Some characters could not be decoded, and were replaced with REPLACEMENT CHARACTER.\n"
     ]
    },
    {
     "name": "stdout",
     "output_type": "stream",
     "text": [
      "46716\n",
      "46717\n",
      "46718\n",
      "46719\n"
     ]
    },
    {
     "name": "stderr",
     "output_type": "stream",
     "text": [
      "Some characters could not be decoded, and were replaced with REPLACEMENT CHARACTER.\n"
     ]
    },
    {
     "name": "stdout",
     "output_type": "stream",
     "text": [
      "212379\n",
      "46720\n"
     ]
    },
    {
     "name": "stderr",
     "output_type": "stream",
     "text": [
      "Some characters could not be decoded, and were replaced with REPLACEMENT CHARACTER.\n"
     ]
    },
    {
     "name": "stdout",
     "output_type": "stream",
     "text": [
      "212380\n",
      "46721\n"
     ]
    },
    {
     "name": "stderr",
     "output_type": "stream",
     "text": [
      "Some characters could not be decoded, and were replaced with REPLACEMENT CHARACTER.\n"
     ]
    },
    {
     "name": "stdout",
     "output_type": "stream",
     "text": [
      "212381\n",
      "46722\n"
     ]
    },
    {
     "name": "stderr",
     "output_type": "stream",
     "text": [
      "Some characters could not be decoded, and were replaced with REPLACEMENT CHARACTER.\n"
     ]
    },
    {
     "name": "stdout",
     "output_type": "stream",
     "text": [
      "212382\n"
     ]
    },
    {
     "name": "stderr",
     "output_type": "stream",
     "text": [
      "Some characters could not be decoded, and were replaced with REPLACEMENT CHARACTER.\n"
     ]
    },
    {
     "name": "stdout",
     "output_type": "stream",
     "text": [
      "46723\n"
     ]
    },
    {
     "name": "stderr",
     "output_type": "stream",
     "text": [
      "Some characters could not be decoded, and were replaced with REPLACEMENT CHARACTER.\n"
     ]
    },
    {
     "name": "stdout",
     "output_type": "stream",
     "text": [
      "46724\n",
      "46725\n",
      "212383\n",
      "46726\n"
     ]
    },
    {
     "name": "stderr",
     "output_type": "stream",
     "text": [
      "Some characters could not be decoded, and were replaced with REPLACEMENT CHARACTER.\n"
     ]
    },
    {
     "name": "stdout",
     "output_type": "stream",
     "text": [
      "212384\n",
      "46727\n"
     ]
    },
    {
     "name": "stderr",
     "output_type": "stream",
     "text": [
      "Some characters could not be decoded, and were replaced with REPLACEMENT CHARACTER.\n"
     ]
    },
    {
     "name": "stdout",
     "output_type": "stream",
     "text": [
      "46728\n",
      "46729\n",
      "46730\n",
      "46731\n",
      "46732\n",
      "46733\n",
      "212385\n",
      "46734\n",
      "212386\n"
     ]
    },
    {
     "name": "stderr",
     "output_type": "stream",
     "text": [
      "Some characters could not be decoded, and were replaced with REPLACEMENT CHARACTER.\n"
     ]
    },
    {
     "name": "stdout",
     "output_type": "stream",
     "text": [
      "46735\n",
      "212387\n",
      "46736\n"
     ]
    },
    {
     "name": "stderr",
     "output_type": "stream",
     "text": [
      "Some characters could not be decoded, and were replaced with REPLACEMENT CHARACTER.\n"
     ]
    },
    {
     "name": "stdout",
     "output_type": "stream",
     "text": [
      "212388\n",
      "46737\n",
      "46738\n",
      "212389\n",
      "46739\n",
      "46740\n",
      "46741\n",
      "46742\n",
      "46743\n",
      "46744\n",
      "46745\n"
     ]
    },
    {
     "name": "stderr",
     "output_type": "stream",
     "text": [
      "Some characters could not be decoded, and were replaced with REPLACEMENT CHARACTER.\n"
     ]
    },
    {
     "name": "stdout",
     "output_type": "stream",
     "text": [
      "46746\n",
      "212390\n",
      "46747\n",
      "46748\n",
      "57074\n",
      "57075\n",
      "46749\n",
      "46750\n",
      "46751\n",
      "46752\n",
      "46753\n",
      "46754\n"
     ]
    },
    {
     "name": "stderr",
     "output_type": "stream",
     "text": [
      "Some characters could not be decoded, and were replaced with REPLACEMENT CHARACTER.\n"
     ]
    },
    {
     "name": "stdout",
     "output_type": "stream",
     "text": [
      "46755\n"
     ]
    },
    {
     "name": "stderr",
     "output_type": "stream",
     "text": [
      "Some characters could not be decoded, and were replaced with REPLACEMENT CHARACTER.\n"
     ]
    },
    {
     "name": "stdout",
     "output_type": "stream",
     "text": [
      "46756\n",
      "46757\n",
      "212391\n",
      "46758\n",
      "46759\n",
      "46760\n"
     ]
    },
    {
     "name": "stderr",
     "output_type": "stream",
     "text": [
      "Some characters could not be decoded, and were replaced with REPLACEMENT CHARACTER.\n"
     ]
    },
    {
     "name": "stdout",
     "output_type": "stream",
     "text": [
      "46761\n"
     ]
    },
    {
     "name": "stderr",
     "output_type": "stream",
     "text": [
      "Some characters could not be decoded, and were replaced with REPLACEMENT CHARACTER.\n"
     ]
    },
    {
     "name": "stdout",
     "output_type": "stream",
     "text": [
      "46762\n"
     ]
    },
    {
     "name": "stderr",
     "output_type": "stream",
     "text": [
      "Some characters could not be decoded, and were replaced with REPLACEMENT CHARACTER.\n"
     ]
    },
    {
     "name": "stdout",
     "output_type": "stream",
     "text": [
      "212392\n",
      "212393\n",
      "212394\n"
     ]
    },
    {
     "name": "stderr",
     "output_type": "stream",
     "text": [
      "Some characters could not be decoded, and were replaced with REPLACEMENT CHARACTER.\n"
     ]
    },
    {
     "name": "stdout",
     "output_type": "stream",
     "text": [
      "46763\n",
      "46764\n",
      "46765\n"
     ]
    },
    {
     "name": "stderr",
     "output_type": "stream",
     "text": [
      "Some characters could not be decoded, and were replaced with REPLACEMENT CHARACTER.\n"
     ]
    },
    {
     "name": "stdout",
     "output_type": "stream",
     "text": [
      "212395\n"
     ]
    },
    {
     "name": "stderr",
     "output_type": "stream",
     "text": [
      "Some characters could not be decoded, and were replaced with REPLACEMENT CHARACTER.\n"
     ]
    },
    {
     "name": "stdout",
     "output_type": "stream",
     "text": [
      "46766\n"
     ]
    },
    {
     "name": "stderr",
     "output_type": "stream",
     "text": [
      "Some characters could not be decoded, and were replaced with REPLACEMENT CHARACTER.\n"
     ]
    },
    {
     "name": "stdout",
     "output_type": "stream",
     "text": [
      "46767\n",
      "46768\n",
      "46769\n",
      "57076\n",
      "212396\n",
      "46770\n",
      "46771\n",
      "46772\n",
      "46773\n"
     ]
    },
    {
     "name": "stderr",
     "output_type": "stream",
     "text": [
      "Some characters could not be decoded, and were replaced with REPLACEMENT CHARACTER.\n"
     ]
    },
    {
     "name": "stdout",
     "output_type": "stream",
     "text": [
      "46774\n"
     ]
    },
    {
     "name": "stderr",
     "output_type": "stream",
     "text": [
      "Some characters could not be decoded, and were replaced with REPLACEMENT CHARACTER.\n"
     ]
    },
    {
     "name": "stdout",
     "output_type": "stream",
     "text": [
      "212397\n",
      "46775\n"
     ]
    },
    {
     "name": "stderr",
     "output_type": "stream",
     "text": [
      "Some characters could not be decoded, and were replaced with REPLACEMENT CHARACTER.\n"
     ]
    },
    {
     "name": "stdout",
     "output_type": "stream",
     "text": [
      "46776\n"
     ]
    },
    {
     "name": "stderr",
     "output_type": "stream",
     "text": [
      "Some characters could not be decoded, and were replaced with REPLACEMENT CHARACTER.\n"
     ]
    },
    {
     "name": "stdout",
     "output_type": "stream",
     "text": [
      "46777\n",
      "46778\n",
      "212398\n",
      "46779\n",
      "46780\n",
      "46781\n",
      "46782\n",
      "46783\n"
     ]
    },
    {
     "name": "stderr",
     "output_type": "stream",
     "text": [
      "Some characters could not be decoded, and were replaced with REPLACEMENT CHARACTER.\n"
     ]
    },
    {
     "name": "stdout",
     "output_type": "stream",
     "text": [
      "46784\n",
      "46785\n",
      "46786\n",
      "57077\n",
      "46787\n",
      "46788\n",
      "46789\n"
     ]
    },
    {
     "name": "stderr",
     "output_type": "stream",
     "text": [
      "Some characters could not be decoded, and were replaced with REPLACEMENT CHARACTER.\n"
     ]
    },
    {
     "name": "stdout",
     "output_type": "stream",
     "text": [
      "46790\n",
      "46791\n",
      "46792\n",
      "46793\n",
      "46794\n",
      "46795\n",
      "46796\n",
      "46797\n"
     ]
    },
    {
     "name": "stderr",
     "output_type": "stream",
     "text": [
      "Some characters could not be decoded, and were replaced with REPLACEMENT CHARACTER.\n"
     ]
    },
    {
     "name": "stdout",
     "output_type": "stream",
     "text": [
      "46798\n",
      "212399\n",
      "46799\n"
     ]
    },
    {
     "name": "stderr",
     "output_type": "stream",
     "text": [
      "Some characters could not be decoded, and were replaced with REPLACEMENT CHARACTER.\n"
     ]
    },
    {
     "name": "stdout",
     "output_type": "stream",
     "text": [
      "46800\n",
      "46801\n",
      "212400\n",
      "46802\n",
      "46803\n"
     ]
    },
    {
     "name": "stderr",
     "output_type": "stream",
     "text": [
      "Some characters could not be decoded, and were replaced with REPLACEMENT CHARACTER.\n"
     ]
    },
    {
     "name": "stdout",
     "output_type": "stream",
     "text": [
      "46804\n",
      "212401\n",
      "46805\n",
      "212402\n"
     ]
    },
    {
     "name": "stderr",
     "output_type": "stream",
     "text": [
      "Some characters could not be decoded, and were replaced with REPLACEMENT CHARACTER.\n"
     ]
    },
    {
     "name": "stdout",
     "output_type": "stream",
     "text": [
      "46806\n",
      "212403\n",
      "46807\n",
      "212404\n"
     ]
    },
    {
     "name": "stderr",
     "output_type": "stream",
     "text": [
      "Some characters could not be decoded, and were replaced with REPLACEMENT CHARACTER.\n"
     ]
    },
    {
     "name": "stdout",
     "output_type": "stream",
     "text": [
      "212405\n",
      "212406\n",
      "212407\n"
     ]
    },
    {
     "name": "stderr",
     "output_type": "stream",
     "text": [
      "Some characters could not be decoded, and were replaced with REPLACEMENT CHARACTER.\n"
     ]
    },
    {
     "name": "stdout",
     "output_type": "stream",
     "text": [
      "212408\n",
      "46808\n",
      "46809\n",
      "46810\n",
      "46811\n"
     ]
    },
    {
     "name": "stderr",
     "output_type": "stream",
     "text": [
      "Some characters could not be decoded, and were replaced with REPLACEMENT CHARACTER.\n"
     ]
    },
    {
     "name": "stdout",
     "output_type": "stream",
     "text": [
      "46812\n"
     ]
    },
    {
     "name": "stderr",
     "output_type": "stream",
     "text": [
      "Some characters could not be decoded, and were replaced with REPLACEMENT CHARACTER.\n"
     ]
    },
    {
     "name": "stdout",
     "output_type": "stream",
     "text": [
      "46813\n"
     ]
    },
    {
     "name": "stderr",
     "output_type": "stream",
     "text": [
      "Some characters could not be decoded, and were replaced with REPLACEMENT CHARACTER.\n"
     ]
    },
    {
     "name": "stdout",
     "output_type": "stream",
     "text": [
      "212409\n"
     ]
    },
    {
     "name": "stderr",
     "output_type": "stream",
     "text": [
      "Some characters could not be decoded, and were replaced with REPLACEMENT CHARACTER.\n"
     ]
    },
    {
     "name": "stdout",
     "output_type": "stream",
     "text": [
      "46814\n",
      "46815\n",
      "46816\n",
      "212410\n",
      "46817\n",
      "212411\n"
     ]
    },
    {
     "name": "stderr",
     "output_type": "stream",
     "text": [
      "Some characters could not be decoded, and were replaced with REPLACEMENT CHARACTER.\n"
     ]
    },
    {
     "name": "stdout",
     "output_type": "stream",
     "text": [
      "46818\n",
      "46819\n",
      "46820\n",
      "212412\n",
      "212413\n",
      "46821\n"
     ]
    },
    {
     "name": "stderr",
     "output_type": "stream",
     "text": [
      "Some characters could not be decoded, and were replaced with REPLACEMENT CHARACTER.\n"
     ]
    },
    {
     "name": "stdout",
     "output_type": "stream",
     "text": [
      "46822\n"
     ]
    },
    {
     "name": "stderr",
     "output_type": "stream",
     "text": [
      "Some characters could not be decoded, and were replaced with REPLACEMENT CHARACTER.\n"
     ]
    },
    {
     "name": "stdout",
     "output_type": "stream",
     "text": [
      "46823\n",
      "46824\n",
      "46825\n",
      "46826\n",
      "212414\n"
     ]
    },
    {
     "name": "stderr",
     "output_type": "stream",
     "text": [
      "Some characters could not be decoded, and were replaced with REPLACEMENT CHARACTER.\n"
     ]
    },
    {
     "name": "stdout",
     "output_type": "stream",
     "text": [
      "212415\n",
      "212416\n"
     ]
    },
    {
     "name": "stderr",
     "output_type": "stream",
     "text": [
      "Some characters could not be decoded, and were replaced with REPLACEMENT CHARACTER.\n"
     ]
    },
    {
     "name": "stdout",
     "output_type": "stream",
     "text": [
      "212417\n",
      "46827\n",
      "212418\n",
      "212419\n",
      "46828\n",
      "46829\n",
      "46830\n"
     ]
    },
    {
     "name": "stderr",
     "output_type": "stream",
     "text": [
      "Some characters could not be decoded, and were replaced with REPLACEMENT CHARACTER.\n"
     ]
    },
    {
     "name": "stdout",
     "output_type": "stream",
     "text": [
      "212420\n",
      "46831\n",
      "46832\n",
      "46833\n",
      "212421\n",
      "46834\n",
      "46835\n"
     ]
    },
    {
     "name": "stderr",
     "output_type": "stream",
     "text": [
      "Some characters could not be decoded, and were replaced with REPLACEMENT CHARACTER.\n"
     ]
    },
    {
     "name": "stdout",
     "output_type": "stream",
     "text": [
      "46836\n",
      "46837\n",
      "46838\n",
      "212422\n"
     ]
    },
    {
     "name": "stderr",
     "output_type": "stream",
     "text": [
      "Some characters could not be decoded, and were replaced with REPLACEMENT CHARACTER.\n"
     ]
    },
    {
     "name": "stdout",
     "output_type": "stream",
     "text": [
      "46839\n"
     ]
    },
    {
     "name": "stderr",
     "output_type": "stream",
     "text": [
      "Some characters could not be decoded, and were replaced with REPLACEMENT CHARACTER.\n"
     ]
    },
    {
     "name": "stdout",
     "output_type": "stream",
     "text": [
      "46840\n",
      "46841\n",
      "212423\n",
      "46842\n",
      "46843\n",
      "46844\n",
      "46845\n",
      "212424\n"
     ]
    },
    {
     "name": "stderr",
     "output_type": "stream",
     "text": [
      "Some characters could not be decoded, and were replaced with REPLACEMENT CHARACTER.\n"
     ]
    },
    {
     "name": "stdout",
     "output_type": "stream",
     "text": [
      "212425\n",
      "46846\n",
      "212426\n",
      "46847\n"
     ]
    },
    {
     "name": "stderr",
     "output_type": "stream",
     "text": [
      "Some characters could not be decoded, and were replaced with REPLACEMENT CHARACTER.\n"
     ]
    },
    {
     "name": "stdout",
     "output_type": "stream",
     "text": [
      "212427\n"
     ]
    },
    {
     "ename": "KeyError",
     "evalue": "'text'",
     "output_type": "error",
     "traceback": [
      "\u001b[1;31m---------------------------------------------------------------------------\u001b[0m",
      "\u001b[1;31mKeyError\u001b[0m                                  Traceback (most recent call last)",
      "\u001b[1;32mc:\\users\\nicol\\appdata\\local\\pypoetry\\cache\\virtualenvs\\mds-x1hxjhmd-py3.8\\lib\\site-packages\\pandas\\core\\indexes\\base.py\u001b[0m in \u001b[0;36mget_loc\u001b[1;34m(self, key, method, tolerance)\u001b[0m\n\u001b[0;32m   2890\u001b[0m             \u001b[1;32mtry\u001b[0m\u001b[1;33m:\u001b[0m\u001b[1;33m\u001b[0m\u001b[1;33m\u001b[0m\u001b[0m\n\u001b[1;32m-> 2891\u001b[1;33m                 \u001b[1;32mreturn\u001b[0m \u001b[0mself\u001b[0m\u001b[1;33m.\u001b[0m\u001b[0m_engine\u001b[0m\u001b[1;33m.\u001b[0m\u001b[0mget_loc\u001b[0m\u001b[1;33m(\u001b[0m\u001b[0mcasted_key\u001b[0m\u001b[1;33m)\u001b[0m\u001b[1;33m\u001b[0m\u001b[1;33m\u001b[0m\u001b[0m\n\u001b[0m\u001b[0;32m   2892\u001b[0m             \u001b[1;32mexcept\u001b[0m \u001b[0mKeyError\u001b[0m \u001b[1;32mas\u001b[0m \u001b[0merr\u001b[0m\u001b[1;33m:\u001b[0m\u001b[1;33m\u001b[0m\u001b[1;33m\u001b[0m\u001b[0m\n",
      "\u001b[1;32mpandas\\_libs\\index.pyx\u001b[0m in \u001b[0;36mpandas._libs.index.IndexEngine.get_loc\u001b[1;34m()\u001b[0m\n",
      "\u001b[1;32mpandas\\_libs\\index.pyx\u001b[0m in \u001b[0;36mpandas._libs.index.IndexEngine.get_loc\u001b[1;34m()\u001b[0m\n",
      "\u001b[1;32mpandas\\_libs\\hashtable_class_helper.pxi\u001b[0m in \u001b[0;36mpandas._libs.hashtable.PyObjectHashTable.get_item\u001b[1;34m()\u001b[0m\n",
      "\u001b[1;32mpandas\\_libs\\hashtable_class_helper.pxi\u001b[0m in \u001b[0;36mpandas._libs.hashtable.PyObjectHashTable.get_item\u001b[1;34m()\u001b[0m\n",
      "\u001b[1;31mKeyError\u001b[0m: 'text'",
      "\nThe above exception was the direct cause of the following exception:\n",
      "\u001b[1;31mKeyError\u001b[0m                                  Traceback (most recent call last)",
      "\u001b[1;32m<ipython-input-301-ae57e252f0cb>\u001b[0m in \u001b[0;36m<module>\u001b[1;34m\u001b[0m\n\u001b[1;32m----> 1\u001b[1;33m \u001b[0mmymetafunction\u001b[0m\u001b[1;33m(\u001b[0m\u001b[1;34m'NY'\u001b[0m\u001b[1;33m,\u001b[0m \u001b[0mdownload\u001b[0m\u001b[1;33m=\u001b[0m\u001b[1;32mTrue\u001b[0m\u001b[1;33m,\u001b[0m \u001b[0myear\u001b[0m\u001b[1;33m=\u001b[0m\u001b[1;36m2009\u001b[0m\u001b[1;33m,\u001b[0m  \u001b[0mpath\u001b[0m\u001b[1;33m=\u001b[0m\u001b[1;34m\"NY\"\u001b[0m\u001b[1;33m)\u001b[0m\u001b[1;33m\u001b[0m\u001b[1;33m\u001b[0m\u001b[0m\n\u001b[0m",
      "\u001b[1;32m<ipython-input-300-d052ea1735d6>\u001b[0m in \u001b[0;36mmymetafunction\u001b[1;34m(state, download, **kwargs)\u001b[0m\n\u001b[0;32m     24\u001b[0m                 \u001b[1;32mif\u001b[0m \u001b[1;33m(\u001b[0m\u001b[0mtype\u001b[0m\u001b[1;33m(\u001b[0m\u001b[0mj\u001b[0m\u001b[1;33m)\u001b[0m\u001b[1;33m==\u001b[0m\u001b[0mint\u001b[0m\u001b[1;33m)\u001b[0m\u001b[1;33m:\u001b[0m\u001b[1;33m\u001b[0m\u001b[1;33m\u001b[0m\u001b[0m\n\u001b[0;32m     25\u001b[0m                     \u001b[0mj\u001b[0m\u001b[1;33m=\u001b[0m\u001b[0mstr\u001b[0m\u001b[1;33m(\u001b[0m\u001b[0mj\u001b[0m\u001b[1;33m)\u001b[0m\u001b[1;33m\u001b[0m\u001b[1;33m\u001b[0m\u001b[0m\n\u001b[1;32m---> 26\u001b[1;33m                 \u001b[0mimport_text\u001b[0m\u001b[1;33m(\u001b[0m\u001b[0mj\u001b[0m\u001b[1;33m,\u001b[0m \u001b[0mkwargs\u001b[0m\u001b[1;33m[\u001b[0m\u001b[1;34m'path'\u001b[0m\u001b[1;33m]\u001b[0m\u001b[1;33m)\u001b[0m\u001b[1;33m\u001b[0m\u001b[1;33m\u001b[0m\u001b[0m\n\u001b[0m\u001b[0;32m     27\u001b[0m \u001b[1;33m\u001b[0m\u001b[0m\n\u001b[0;32m     28\u001b[0m     \u001b[0mmyclassification\u001b[0m\u001b[1;33m(\u001b[0m\u001b[0mmytitlelist\u001b[0m\u001b[1;33m)\u001b[0m\u001b[1;33m\u001b[0m\u001b[1;33m\u001b[0m\u001b[0m\n",
      "\u001b[1;32m<ipython-input-30-f7d3eba26044>\u001b[0m in \u001b[0;36mimport_text\u001b[1;34m(num, path)\u001b[0m\n\u001b[0;32m      6\u001b[0m     \u001b[0mjson_response\u001b[0m\u001b[1;33m\u001b[0m\u001b[1;33m\u001b[0m\u001b[0m\n\u001b[0;32m      7\u001b[0m     \u001b[0mmydataframe\u001b[0m\u001b[1;33m=\u001b[0m\u001b[0mpd\u001b[0m\u001b[1;33m.\u001b[0m\u001b[0mDataFrame\u001b[0m\u001b[1;33m(\u001b[0m\u001b[0mjson_response\u001b[0m\u001b[1;33m)\u001b[0m\u001b[1;33m\u001b[0m\u001b[1;33m\u001b[0m\u001b[0m\n\u001b[1;32m----> 8\u001b[1;33m     \u001b[0mmynew\u001b[0m\u001b[1;33m=\u001b[0m\u001b[0mmydataframe\u001b[0m\u001b[1;33m[\u001b[0m\u001b[1;34m'text'\u001b[0m\u001b[1;33m]\u001b[0m\u001b[1;33m\u001b[0m\u001b[1;33m\u001b[0m\u001b[0m\n\u001b[0m\u001b[0;32m      9\u001b[0m     \u001b[0mmynew\u001b[0m\u001b[1;33m.\u001b[0m\u001b[0mto_frame\u001b[0m\u001b[1;33m(\u001b[0m\u001b[1;33m)\u001b[0m\u001b[1;33m\u001b[0m\u001b[1;33m\u001b[0m\u001b[0m\n\u001b[0;32m     10\u001b[0m     \u001b[0mbase64_message\u001b[0m \u001b[1;33m=\u001b[0m \u001b[0mmynew\u001b[0m\u001b[1;33m[\u001b[0m\u001b[1;34m'doc'\u001b[0m\u001b[1;33m]\u001b[0m\u001b[1;33m\u001b[0m\u001b[1;33m\u001b[0m\u001b[0m\n",
      "\u001b[1;32mc:\\users\\nicol\\appdata\\local\\pypoetry\\cache\\virtualenvs\\mds-x1hxjhmd-py3.8\\lib\\site-packages\\pandas\\core\\frame.py\u001b[0m in \u001b[0;36m__getitem__\u001b[1;34m(self, key)\u001b[0m\n\u001b[0;32m   2900\u001b[0m             \u001b[1;32mif\u001b[0m \u001b[0mself\u001b[0m\u001b[1;33m.\u001b[0m\u001b[0mcolumns\u001b[0m\u001b[1;33m.\u001b[0m\u001b[0mnlevels\u001b[0m \u001b[1;33m>\u001b[0m \u001b[1;36m1\u001b[0m\u001b[1;33m:\u001b[0m\u001b[1;33m\u001b[0m\u001b[1;33m\u001b[0m\u001b[0m\n\u001b[0;32m   2901\u001b[0m                 \u001b[1;32mreturn\u001b[0m \u001b[0mself\u001b[0m\u001b[1;33m.\u001b[0m\u001b[0m_getitem_multilevel\u001b[0m\u001b[1;33m(\u001b[0m\u001b[0mkey\u001b[0m\u001b[1;33m)\u001b[0m\u001b[1;33m\u001b[0m\u001b[1;33m\u001b[0m\u001b[0m\n\u001b[1;32m-> 2902\u001b[1;33m             \u001b[0mindexer\u001b[0m \u001b[1;33m=\u001b[0m \u001b[0mself\u001b[0m\u001b[1;33m.\u001b[0m\u001b[0mcolumns\u001b[0m\u001b[1;33m.\u001b[0m\u001b[0mget_loc\u001b[0m\u001b[1;33m(\u001b[0m\u001b[0mkey\u001b[0m\u001b[1;33m)\u001b[0m\u001b[1;33m\u001b[0m\u001b[1;33m\u001b[0m\u001b[0m\n\u001b[0m\u001b[0;32m   2903\u001b[0m             \u001b[1;32mif\u001b[0m \u001b[0mis_integer\u001b[0m\u001b[1;33m(\u001b[0m\u001b[0mindexer\u001b[0m\u001b[1;33m)\u001b[0m\u001b[1;33m:\u001b[0m\u001b[1;33m\u001b[0m\u001b[1;33m\u001b[0m\u001b[0m\n\u001b[0;32m   2904\u001b[0m                 \u001b[0mindexer\u001b[0m \u001b[1;33m=\u001b[0m \u001b[1;33m[\u001b[0m\u001b[0mindexer\u001b[0m\u001b[1;33m]\u001b[0m\u001b[1;33m\u001b[0m\u001b[1;33m\u001b[0m\u001b[0m\n",
      "\u001b[1;32mc:\\users\\nicol\\appdata\\local\\pypoetry\\cache\\virtualenvs\\mds-x1hxjhmd-py3.8\\lib\\site-packages\\pandas\\core\\indexes\\base.py\u001b[0m in \u001b[0;36mget_loc\u001b[1;34m(self, key, method, tolerance)\u001b[0m\n\u001b[0;32m   2891\u001b[0m                 \u001b[1;32mreturn\u001b[0m \u001b[0mself\u001b[0m\u001b[1;33m.\u001b[0m\u001b[0m_engine\u001b[0m\u001b[1;33m.\u001b[0m\u001b[0mget_loc\u001b[0m\u001b[1;33m(\u001b[0m\u001b[0mcasted_key\u001b[0m\u001b[1;33m)\u001b[0m\u001b[1;33m\u001b[0m\u001b[1;33m\u001b[0m\u001b[0m\n\u001b[0;32m   2892\u001b[0m             \u001b[1;32mexcept\u001b[0m \u001b[0mKeyError\u001b[0m \u001b[1;32mas\u001b[0m \u001b[0merr\u001b[0m\u001b[1;33m:\u001b[0m\u001b[1;33m\u001b[0m\u001b[1;33m\u001b[0m\u001b[0m\n\u001b[1;32m-> 2893\u001b[1;33m                 \u001b[1;32mraise\u001b[0m \u001b[0mKeyError\u001b[0m\u001b[1;33m(\u001b[0m\u001b[0mkey\u001b[0m\u001b[1;33m)\u001b[0m \u001b[1;32mfrom\u001b[0m \u001b[0merr\u001b[0m\u001b[1;33m\u001b[0m\u001b[1;33m\u001b[0m\u001b[0m\n\u001b[0m\u001b[0;32m   2894\u001b[0m \u001b[1;33m\u001b[0m\u001b[0m\n\u001b[0;32m   2895\u001b[0m         \u001b[1;32mif\u001b[0m \u001b[0mtolerance\u001b[0m \u001b[1;32mis\u001b[0m \u001b[1;32mnot\u001b[0m \u001b[1;32mNone\u001b[0m\u001b[1;33m:\u001b[0m\u001b[1;33m\u001b[0m\u001b[1;33m\u001b[0m\u001b[0m\n",
      "\u001b[1;31mKeyError\u001b[0m: 'text'"
     ]
    }
   ],
   "source": [
    "overall_request('NY', download=True, year=2009,  path=\"NY\")"
   ]
  },
  {
   "cell_type": "code",
   "execution_count": 305,
   "metadata": {},
   "outputs": [
    {
     "name": "stdout",
     "output_type": "stream",
     "text": [
      "2019\n",
      "   state_id  session_id  special  year_start  year_end  \\\n",
      "0        32        1644        0        2019      2020   \n",
      "\n",
      "                 session_name     session_title  \\\n",
      "0  2019-2020 General Assembly  General Assembly   \n",
      "\n",
      "                       dataset_hash dataset_date  dataset_size  \\\n",
      "0  113b58315ac9dbb2a50bf213f974b18e   2020-12-13      43909253   \n",
      "\n",
      "               access_key  push_safe  \n",
      "0  6FfiSKPtMWk6vO9OcFX0nW          0  \n",
      "1644\n"
     ]
    },
    {
     "data": {
      "image/png": "[encoded data removed]",
      "text/plain": [
       "<Figure size 432x288 with 1 Axes>"
      ]
     },
     "metadata": {
      "needs_background": "light"
     },
     "output_type": "display_data"
    }
   ],
   "source": [
    "overall_request('NY', year=2019)"
   ]
  },
  {
   "cell_type": "code",
   "execution_count": 311,
   "metadata": {},
   "outputs": [
    {
     "data": {
      "text/plain": [
       "title      2375\n",
       "type       2375\n",
       "typenum    2375\n",
       "dtype: int64"
      ]
     },
     "execution_count": 311,
     "metadata": {},
     "output_type": "execute_result"
    }
   ],
   "source": []
  },
  {
   "cell_type": "markdown",
   "metadata": {},
   "source": [
    "# TEST PART"
   ]
  },
  {
   "cell_type": "code",
   "execution_count": 341,
   "metadata": {},
   "outputs": [],
   "source": [
    "import pytest\n",
    "# I want to make sure my function returns the same output as what I would get from the direct command:\n",
    "def test_package():\n",
    "    mylink2=\"https://api.legiscan.com/?key=\"+api_key+\"&op=getMasterList&id=1644\"\n",
    "    r = requests.get(mylink2)\n",
    "    json_response=r.json()\n",
    "    mydata=pd.DataFrame.from_dict(json_response['masterlist'])\n",
    "    mynewdata=mydata.loc[  'title' ,:]\n",
    "    mytitlelist=mynewdata.to_frame()\n",
    "    mytitlelist=mytitlelist.dropna(subset=['title'])\n",
    "    mydico = {\n",
    "    \"environment\" : \".environment|energy|tree|river|forest|animal|insect|fertilizer|dam|agricult|water|land|water|owner|control|site|air|solid|gas|tenant|oil|park|airport|coal|plant|prevent|underground|power|soil|portion|landlord|condition.\",\n",
    "    \"courts\" : \".court|judgment|attorney|case|appeal|civil|petition|sheriff|trial|circuit court|district court|such_person|complaint|counsel|brought|circuit|warrant|paid\",\n",
    "    \"pensions\": \".paid|benefit|rate|payment|equal|death|age|credit|pay|total|life|pension|premium|calendar year|loss|account|case|per cent|event|membership|excess|maximum.\",\n",
    "    \"local_projects\": \".development|local|project|budget|government|cost|grant|research|center|local government|data|transfer|governor|is the intent|develop|urban|review|biennium.\",\n",
    "    \"procurement\":\".director|contract|work|review|civil|labor|contractor|attorney general|bureau|final|perform|audit|receipt|status|exempt|panel|government|firm|bid|prepared.\",\n",
    "    \"elections\":\".district|town|petition|charter|special|ballot|mayor|voter|township|precinct|cast|referendum|census|elector|case|town council|said district|such district.\",\n",
    "    \"banking\":\".loan|trust|bank|agent|partnership|institution|foreign|stock|mortgage|deposit|surplus|interest|merger|credit union|partner|case|credit|gift|branch|transact.\",\n",
    "    \"licensing\":\".license|fee|dealer|sale|food|sold|holder|sell|valid|fish|agent|distributor|milk|liquor|product|such license|livestock|game|card|retail|misdemeanor|fine.\",\n",
    "    \"real_estate\":\".real|interest|sale|owner|contract|claim|lien|payment|transfer|instrument|seller|holder|issuer|debtor|claimant|buyer|pay|broker|settlement|receipt|money.\",\n",
    "    \"bonds\":\".interest|bond|payment|commonwealth|cost|sale|paid|pay|project|power|thereon|sold|debt|pledge|local law|event|hereof|proper|said board|real|port|sell|therefrom.\",\n",
    "    \"expenditures\":\".fund|account|money|paid|special|pay|tile|payment|transfer|for the fiscal year|excess|trust fund|so much thereof|deposit|state general fund|auditor|tie.\",\n",
    "    \"bureaucracy\":\".governor|council|government|chief|fire|appoint|personnel|compact|conflict|perform|shall consist|invalid|parish|successor|volunteer|membership|head|travel.\",\n",
    "    \"healthcare\":\".health|care|treatment|health care|physician|home|human|patient|mental|mental health|drug|social|condition|public health|medicaid|dental|client|review|institution.\",\n",
    "    \"child_custody\":\".child|court|minor|children|parent|age|probation|crime|victim|parole|guardian|adult|petition|placement|youth|case|social|legal|child support|obligor|home.\",\n",
    "    \"taxes\":\".tax|paid|gross|credit|return|net|rate|exempt|assessor|case|refund|equal|sale|total|calendar year|payment|fuel|portion|sold|price|retail|zone|pay|such tax.\",\n",
    "    \"education\":\".school|school district|state board|district|student|institution|higher|teacher|special|aid|pupil|children|school year|tuition|high school|school board.\",\n",
    "    \"traffic1\":\".motor|highway|driver|owner|traffic|plate|test|vessel|accident|weight|special|sect|trailer|railroad|state highway|stricken|feet|fine|alcohol|aircraft|carrier.\",\n",
    "    \"traffic2\":\".street|road|feet|island|river|run|tract|team|great|highway|township|cent.\"\n",
    "    }\n",
    "    type_to_id = {key : value for key,value in enumerate(mydico.keys())}\n",
    "    i=0\n",
    "    for key, value in mydico.items():\n",
    "        mytitlelist.loc[mytitlelist.title.str.contains(value), 'type']=key\n",
    "        i=i+1\n",
    "        mytitlelist.loc[mytitlelist.title.str.contains(value), 'typenum']=i\n",
    "    expected=mytitlelist[mytitlelist.typenum==18.0].count()\n",
    "    expected=expected['title']\n",
    "    overall_request('NY', year=2019)\n",
    "    predicted=mytitlelist[mytitlelist.typenum==18.0].count()\n",
    "    predicted=predicted['title']\n",
    "    assert predicted == expected "
   ]
  },
  {
   "cell_type": "code",
   "execution_count": 342,
   "metadata": {},
   "outputs": [
    {
     "data": {
      "image/png": "[encoded data removed]",
      "text/plain": [
       "<Figure size 432x288 with 1 Axes>"
      ]
     },
     "metadata": {
      "needs_background": "light"
     },
     "output_type": "display_data"
    },
    {
     "name": "stdout",
     "output_type": "stream",
     "text": [
      "2375\n",
      "2375\n"
     ]
    }
   ],
   "source": [
    "test_package()"
   ]
  }
 ],
 "metadata": {
  "kernelspec": {
   "display_name": "Python 3",
   "language": "python",
   "name": "python3"
  },
  "language_info": {
   "codemirror_mode": {
    "name": "ipython",
    "version": 3
   },
   "file_extension": ".py",
   "mimetype": "text/x-python",
   "name": "python",
   "nbconvert_exporter": "python",
   "pygments_lexer": "ipython3",
   "version": "3.8.5"
  }
 },
 "nbformat": 4,
 "nbformat_minor": 4
}
